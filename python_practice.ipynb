{
  "nbformat": 4,
  "nbformat_minor": 0,
  "metadata": {
    "colab": {
      "name": "python_practice.ipynb",
      "provenance": [],
      "collapsed_sections": [],
      "include_colab_link": true
    },
    "kernelspec": {
      "name": "python3",
      "display_name": "Python 3"
    },
    "language_info": {
      "name": "python"
    }
  },
  "cells": [
    {
      "cell_type": "markdown",
      "metadata": {
        "id": "view-in-github",
        "colab_type": "text"
      },
      "source": [
        "<a href=\"https://colab.research.google.com/github/sugrid/python-practice/blob/main/python_practice.ipynb\" target=\"_parent\"><img src=\"https://colab.research.google.com/assets/colab-badge.svg\" alt=\"Open In Colab\"/></a>"
      ]
    },
    {
      "cell_type": "markdown",
      "source": [
        "# Python Practice"
      ],
      "metadata": {
        "id": "rFBoI5WhIP9Q"
      }
    },
    {
      "cell_type": "markdown",
      "source": [
        "## input 함수와 print 함수"
      ],
      "metadata": {
        "id": "CwcJ8r6XL3QW"
      }
    },
    {
      "cell_type": "code",
      "execution_count": null,
      "metadata": {
        "id": "2m9FbvUoINBg"
      },
      "outputs": [],
      "source": [
        "# input 함수와 print 함수\n",
        "\n",
        "example = input(\"안녕하세요? 오늘 기분은 어떤가요?\")\n",
        "# exmaple 출력\n",
        "\n",
        "# f-string을 사용한 출력\n",
        "\n"
      ]
    },
    {
      "cell_type": "markdown",
      "source": [
        "## 문자열 자료형"
      ],
      "metadata": {
        "id": "scvQU6KpMAQq"
      }
    },
    {
      "cell_type": "code",
      "source": [
        "# sample code 작성하기"
      ],
      "metadata": {
        "id": "YdhlDXoJKk3P"
      },
      "execution_count": null,
      "outputs": []
    },
    {
      "cell_type": "markdown",
      "source": [
        "## 리스트 자료형"
      ],
      "metadata": {
        "id": "Srb_7e00MBCK"
      }
    },
    {
      "cell_type": "code",
      "source": [
        "# sample code 작성하기"
      ],
      "metadata": {
        "id": "QysPX7v0MBhK"
      },
      "execution_count": null,
      "outputs": []
    },
    {
      "cell_type": "markdown",
      "source": [
        "## 튜플 자료형"
      ],
      "metadata": {
        "id": "RBzDKWlSMC3P"
      }
    },
    {
      "cell_type": "code",
      "source": [
        "# sample code 작성하기"
      ],
      "metadata": {
        "id": "AalkYwrJMGJZ"
      },
      "execution_count": null,
      "outputs": []
    },
    {
      "cell_type": "markdown",
      "source": [
        "## 딕셔너리 자료형"
      ],
      "metadata": {
        "id": "454XHQQ8MGso"
      }
    },
    {
      "cell_type": "code",
      "source": [
        "# sample code 작성하기"
      ],
      "metadata": {
        "id": "rmEeXjiNObBf"
      },
      "execution_count": null,
      "outputs": []
    },
    {
      "cell_type": "markdown",
      "source": [
        "# 미션 1\n",
        "#### 이름과 태어난 연도를 입력받아 나이와 함께 인사하는 코드 작성하기\n",
        "\n",
        "* 사용자에게 총 2번의 입력을 받아 각각 서로 다른 변수에 저장해주세요. <br>\n",
        "이름 (name), 태어난 해 (born)\n",
        "\n",
        "* 이 변수 2개를 모두 활용해 나이(age)를 계산한 다음, 인사를 하는 프로그램을 작성해주세요. <br>\n",
        "(예) 재석님, 안녕하세요! 올해 51살이 되셨군요?"
      ],
      "metadata": {
        "id": "AqwAnU0WOggx"
      }
    },
    {
      "cell_type": "code",
      "source": [
        "print(\"=\" * 50)\n",
        "\n",
        "# 각 값을 입력 받기\n",
        "name = \n",
        "born = \n",
        "\n",
        "# 나이 계산하는 식 작성하기\n",
        "age = \n",
        "\n",
        "print(\"=\" * 50)\n",
        "\n",
        "# f-string을 사용해 출력하기\n",
        "print(f\"       \")"
      ],
      "metadata": {
        "id": "epyu09CtOsLn"
      },
      "execution_count": null,
      "outputs": []
    },
    {
      "cell_type": "markdown",
      "source": [
        "## while문"
      ],
      "metadata": {
        "id": "HgoDRNvpThAL"
      }
    },
    {
      "cell_type": "code",
      "source": [
        "# sample code 작성하기"
      ],
      "metadata": {
        "id": "TFPpx725OxTC"
      },
      "execution_count": null,
      "outputs": []
    },
    {
      "cell_type": "markdown",
      "source": [
        "## for문"
      ],
      "metadata": {
        "id": "doQkOs0aTlXB"
      }
    },
    {
      "cell_type": "code",
      "source": [
        "# sample code 작성하기"
      ],
      "metadata": {
        "id": "_5nS-IyaTlKY"
      },
      "execution_count": null,
      "outputs": []
    },
    {
      "cell_type": "markdown",
      "source": [
        "## if문"
      ],
      "metadata": {
        "id": "u-2-BBE_Tpmw"
      }
    },
    {
      "cell_type": "code",
      "source": [
        "# sample code 작성하기"
      ],
      "metadata": {
        "id": "15Gww_3OTpUA"
      },
      "execution_count": null,
      "outputs": []
    },
    {
      "cell_type": "markdown",
      "source": [
        "# 미션 2\n",
        "#### 몬스터 10마리를 잡으면 LEVEL UP!하는 프로그램 작성하기\n",
        "\n",
        "* 잡은 몬스터 수를 세는 변수에 초기값으로 0을 저장해주세요.\n",
        "* 반복문을 사용해서 몬스터를 잡을 때마다 1을 더해주세요.\n",
        "* 잡은 몬스터 수가 1마리 ~ 10마리일 때까지 현재 몬스터 수를 출력하고\n",
        "* 10마리가 되면 LEVEL UP!을 출력해주세요.\n",
        "\n",
        "* 몬스터를 잡으시겠습니까? Y/N 중 선택\n",
        "* 몬스터를 잡으면 잡은 몬스터 수에 1을 더하고\n",
        "* 몬스터를 잡지 못하면 몬스터 수에 1을 뺀다\n",
        "\n",
        "* 잡은 몬스터 수가 10이 되면 LEVEL UP!\n",
        "\n",
        "* "
      ],
      "metadata": {
        "id": "2Yx_mmrpboIW"
      }
    },
    {
      "cell_type": "code",
      "source": [
        "# 예시 답안\n",
        "kill_count = 0\n",
        "\n",
        "while kill_count < 10:\n",
        "  print(\"몬스터를 더 잡아야 합니다.\")\n",
        "  answer = input(\"몬스터를 잡으시겠습니까? Y/N : \")\n",
        "  if answer in [\"Y\",\"N\"] :\n",
        "    if answer == \"Y\":\n",
        "      kill_count += 1\n",
        "    else :\n",
        "      kill_count -= 1\n",
        "    print(f\"현재 몬스터 수 : {kill_count}\")\n",
        "  else:\n",
        "    print(\"다시 입력하세요\")\n",
        "\n",
        "print(\"LEVEL UP!\")"
      ],
      "metadata": {
        "id": "u6SIOQdEbon0"
      },
      "execution_count": null,
      "outputs": []
    },
    {
      "cell_type": "code",
      "source": [
        "# 예시 답안\n",
        "\n",
        "kill_count = 0\n",
        "\n",
        "for kill_count in range(10):\n",
        "  print(\"몬스터를 더 잡아야 합니다.\")\n",
        "  kill_count += 1\n",
        "  print(f\"현재 몬스터 수 : {kill_count}\")\n",
        "\n",
        "print(\"LEVEL UP!\")"
      ],
      "metadata": {
        "id": "gzCZkRE30HZL"
      },
      "execution_count": null,
      "outputs": []
    },
    {
      "cell_type": "code",
      "source": [
        "# 예시 답안\n",
        "\n",
        "kill_count = 0\n",
        "\n",
        "while True:\n",
        "  print(\"몬스터를 더 잡아야 합니다.\")\n",
        "  kill_count += 1\n",
        "  print(f\"현재 몬스터 수 : {kill_count}\")\n",
        "\n",
        "  \n",
        "  if kill_count == 10:\n",
        "    print(\"LEVEL UP!\")\n",
        "    break"
      ],
      "metadata": {
        "id": "E6TIFf_L0Jll"
      },
      "execution_count": null,
      "outputs": []
    },
    {
      "cell_type": "markdown",
      "source": [
        "# 미션 3\n",
        "#### 카페 주문 프로그램 작성하기 (토요일 오전 미션)\n",
        "\n",
        "* 1번 메뉴는 아메리카노(4100원), 2번 메뉴는 카페라떼(4600원), 3번 메뉴는 바닐라라떼(5100원)입니다.\n",
        "* 주문하실 메뉴 번호(order)를 입력합니다.\n",
        "* 조건문을 이용해서 메뉴 번호(order)에 맞는 금액(price)이 계산되도록 식을 만들어주세요. (1을 입력하면 4100원, 2를 입력하면 4600원, 3을 입력하면 5100원)\n",
        "* 총 금액(total_price)을 구하는 식을 만들어주세요.\n",
        "* 투입한 금액(money)이 총 금액보다 크면 거스름돈(change)을 계산하고, 부족하면 주문을 취소합니다.\n",
        "* 메뉴 번호 4를 입력하면 주문이 취소되면서 반복문을 빠져나옵니다.\n",
        "\n"
      ],
      "metadata": {
        "id": "17AqYKjngEo3"
      }
    },
    {
      "cell_type": "code",
      "source": [
        "while True :\n",
        "  print(\"=\" * 45)\n",
        "  menu = \" 1. 아메리카노 : 4100원 \\n 2. 카페라떼 : 4600원 \\n 3. 바닐라라떼 : 5100원 \\n 4. 주문 종료\"\n",
        "  print(menu)\n",
        "  print(\"=\" * 45)\n",
        "\n",
        "  # 커피 종류를 입력받습니다. \n",
        "  order = int(input(\"주문하실 메뉴 번호를 입력해주세요:\"))\n",
        "\n",
        "  if 1 <= order <= 3 :\n",
        "    # 입력한 커피 가격을 price 변수에 넣어줍니다.\n",
        "    '''if order == 1:\n",
        "      price = 4100\n",
        "    elif order == 2:\n",
        "      price = 4600\n",
        "    else:\n",
        "      price = 5100'''\n",
        "    menu_price = {1:4100, 2:4600, 3:5100}\n",
        "    price = menu_price[order]\n",
        "\n",
        "    cups = int(input(\"몇 잔을 드릴까요? 잔 수 입력 >>> \"))\n",
        "    # 총 금액을 계산하고 total_price 변수에 넣어줍니다.\n",
        "    total_price = cups*price\n",
        "\n",
        "    money = int(input(f\"총 금액은 {total_price}원 입니다. 돈을 투입해주세요 >>> \"))\n",
        "    # 총 금액보다 투입 금액이 큰 경우 거스름돈을 계산하고 출력합니다.\n",
        "    if total_price <= money:\n",
        "      rest_money = money - total_price\n",
        "      print(f\"거스름돈은 {rest_money}원입니다.\")\n",
        "\n",
        "    # 총 금액보다 작은 금액을 입력한 경우 주문을 취소합니다.\n",
        "    else :\n",
        "      print(\"금액이 부족합니다. 주문이 취소되었습니다.\")\n",
        "\n",
        "  elif order == 4 :\n",
        "    # 4를 입력하면 주문을 종료하고 반복문을 빠져나갑니다.\n",
        "    print(\"주문을 종료합니다.\")\n",
        "    # 반복문 빠져나가기\n",
        "    break\n",
        "\n",
        "  # 1,2,3,4가 아닌 다른 숫자를 입력한 경우 \"잘못된 주문입니다\"를 출력합니다.\n",
        "  else :\n",
        "      print(\"잘못된 주문입니다.\")"
      ],
      "metadata": {
        "id": "wRrKf3NJg_yy",
        "colab": {
          "base_uri": "https://localhost:8080/"
        },
        "outputId": "b81770e4-64b2-4d21-e304-3f438dcc738f"
      },
      "execution_count": null,
      "outputs": [
        {
          "output_type": "stream",
          "name": "stdout",
          "text": [
            "=============================================\n",
            " 1. 아메리카노 : 4100원 \n",
            " 2. 카페라떼 : 4600원 \n",
            " 3. 바닐라라떼 : 5100원 \n",
            " 4. 주문 종료\n",
            "=============================================\n"
          ]
        }
      ]
    },
    {
      "cell_type": "code",
      "source": [
        "while True :\n",
        "  print(\"=\" * 45)\n",
        "  #menu = \" 1. 아메리카노 : 4100원 \\n 2. 카페라떼 : 4600원 \\n 3. 바닐라라떼 : 5100원 \\n 4. 주문 종료\"\n",
        "  menu = {\"아메리카노\":4100, \"카페라떼\":4600, \"바닐라라떼\":5100, \"4\":\"주문종료\"}\n",
        "  print(menu)\n",
        "  print(\"=\" * 45)\n",
        "\n",
        "  # 커피 종류를 입력받습니다. \n",
        "  order = input(\"주문하실 메뉴를 입력해주세요:\")\n",
        "\n",
        "  if order in [\"아메리카노\", \"카페라떼\", \"바닐라라떼\"] :\n",
        "    price = menu[order]\n",
        "    cups = int(input(\"몇 잔을 드릴까요? 잔 수 입력 >>> \"))\n",
        "    # 총 금액을 계산하고 total_price 변수에 넣어줍니다.\n",
        "    total_price = cups*price\n",
        "\n",
        "    money = int(input(f\"총 금액은 {total_price}원 입니다. 돈을 투입해주세요 >>> \"))\n",
        "    # 총 금액보다 투입 금액이 큰 경우 거스름돈을 계산하고 출력합니다.\n",
        "    if total_price <= money:\n",
        "      rest_money = money - total_price\n",
        "      change1000 = rest_money // 1000\n",
        "      change500 = (rest_money%1000) // 500\n",
        "      change100 = (rest_money%1000%500) // 100\n",
        "      print(f\"거스름돈: 1000원 {change1000}장, 500원 {change500}개, 100원 {change100}개\")\n",
        "\n",
        "    # 총 금액보다 작은 금액을 입력한 경우 주문을 취소합니다.\n",
        "    else :\n",
        "      print(\"금액이 부족합니다. 주문이 취소되었습니다.\")\n",
        "\n",
        "  elif order == \"4\" :\n",
        "    # 4를 입력하면 주문을 종료하고 반복문을 빠져나갑니다.\n",
        "    print(\"주문을 종료합니다.\")\n",
        "    # 반복문 빠져나가기\n",
        "    break\n",
        "\n",
        "  # 1,2,3,4가 아닌 다른 숫자를 입력한 경우 \"잘못된 주문입니다\"를 출력합니다.\n",
        "  else :\n",
        "      print(\"잘못된 주문입니다.\")"
      ],
      "metadata": {
        "colab": {
          "base_uri": "https://localhost:8080/"
        },
        "id": "M-RqrsG_mGFr",
        "outputId": "b5229199-ffa4-403f-82aa-ae9254d2957a"
      },
      "execution_count": 7,
      "outputs": [
        {
          "output_type": "stream",
          "name": "stdout",
          "text": [
            "=============================================\n",
            "{'아메리카노': 4100, '카페라떼': 4600, '바닐라라떼': 5100, '4': '주문종료'}\n",
            "=============================================\n",
            "주문하실 메뉴를 입력해주세요:아메리카노\n",
            "몇 잔을 드릴까요? 잔 수 입력 >>> 1\n",
            "총 금액은 4100원 입니다. 돈을 투입해주세요 >>> 5000\n",
            "거스름돈: 1000원 0장, 500원 1개, 100원 4개\n",
            "=============================================\n",
            "{'아메리카노': 4100, '카페라떼': 4600, '바닐라라떼': 5100, '4': '주문종료'}\n",
            "=============================================\n",
            "주문하실 메뉴를 입력해주세요:4\n",
            "주문을 종료합니다.\n"
          ]
        }
      ]
    },
    {
      "cell_type": "code",
      "source": [
        ""
      ],
      "metadata": {
        "id": "PkRYBHDumEKQ"
      },
      "execution_count": null,
      "outputs": []
    }
  ]
}